{
 "cells": [
  {
   "cell_type": "code",
   "execution_count": 43,
   "metadata": {},
   "outputs": [],
   "source": [
    "from bokeh.plotting import figure, output_file, show \n",
    "import numpy as np\n",
    "import AxialHexagon as ah\n",
    "  \n",
    "output_file(\"gfg.html\")\n",
    "graph = figure(title = \"Bokeh Hexagon Bin Graph\") \n",
    "graph.xaxis.axis_label = \"x-axis\"\n",
    "graph.yaxis.axis_label = \"y-axis\""
   ]
  },
  {
   "cell_type": "code",
   "execution_count": 46,
   "metadata": {},
   "outputs": [
    {
     "ename": "AttributeError",
     "evalue": "module 'AxialHexagon' has no attribute 'generate_hexagons'",
     "output_type": "error",
     "traceback": [
      "\u001b[0;31m---------------------------------------------------------------------------\u001b[0m",
      "\u001b[0;31mAttributeError\u001b[0m                            Traceback (most recent call last)",
      "Cell \u001b[0;32mIn[46], line 1\u001b[0m\n\u001b[0;32m----> 1\u001b[0m hexagons \u001b[39m=\u001b[39m ah\u001b[39m.\u001b[39;49mgenerate_hexagons(\u001b[39m3\u001b[39m)\n",
      "\u001b[0;31mAttributeError\u001b[0m: module 'AxialHexagon' has no attribute 'generate_hexagons'"
     ]
    }
   ],
   "source": [
    "hexagons = ah.generate_hexagons(3)"
   ]
  },
  {
   "cell_type": "code",
   "execution_count": 48,
   "metadata": {},
   "outputs": [
    {
     "name": "stdout",
     "output_type": "stream",
     "text": [
      "[-0.13244462  1.65573163  1.78111688 -0.21084198  0.31655501  0.26306241\n",
      " -1.19560721 -0.72210371  0.23413921 -0.07459741  0.72342934 -1.03612332\n",
      "  0.77989433 -0.40640862  2.72108145  0.19667121 -2.11892988 -0.97344752\n",
      " -0.20389131  0.06406498 -1.21190273 -0.03785146  0.21518348 -0.21034857\n",
      " -0.01835419  0.76915701  0.06172151 -0.19872301 -2.09552012 -0.69752433\n",
      " -2.10342303 -0.18281882 -1.90795357  1.62845922 -0.43896242  0.6610636\n",
      "  0.60602463  0.63038867 -0.052282    1.61807813 -1.5111589   0.38008203\n",
      " -0.27054307  0.89019258  0.54868681 -0.90804373  2.22945806 -1.79079384\n",
      " -0.67278916 -1.13985886  0.11968727 -2.16865994 -0.29280549 -0.61338124\n",
      "  0.69629966 -0.66442212  1.5507066   0.82521978  0.55686654 -0.89578838\n",
      " -0.34671338 -0.22173768  1.05464811 -1.7015264   0.59685584 -0.59041313\n",
      " -0.88459032 -0.57710189 -0.29179258  0.1866416   1.48126383  1.19549363\n",
      "  0.15661154  0.87042361  0.70431596 -0.06209069  0.07667806 -0.45464268\n",
      " -0.0367229   1.30813969  0.16462069  0.80644912  0.11547251  1.84953551\n",
      "  0.58716828  1.82728712 -0.58521179 -0.30382299 -0.57024279 -0.87504715\n",
      " -0.66328598  2.63128931 -1.11608853 -1.62810421 -1.00772317  1.59201273\n",
      "  2.33988614  0.31118083  0.91871249  0.30780914 -0.81296588 -1.60175035\n",
      "  0.5085587  -0.07213494  0.89367755  0.80903999  0.81312549  0.88822897\n",
      "  0.20860597  1.00503928 -0.26989502 -0.70141476 -0.43994676  0.51707094\n",
      "  0.21379903 -1.18976734 -1.01069031 -0.0073797  -1.2318871   0.84573985\n",
      " -0.36083502 -1.4769329   0.31899404  1.66177731 -0.60293797  0.70185218\n",
      "  0.09189786  0.61179132 -1.5007428  -2.56237618  2.72957065  1.793686\n",
      "  0.56916177  0.14437192 -1.32700828 -1.89852705 -0.4880397  -2.24949459\n",
      " -0.0349736  -0.31807836  0.21384078 -1.01552465 -1.08496951 -0.08877136\n",
      " -0.88225786 -0.0309229  -0.51712241 -0.45279466  0.2403546   0.49227761\n",
      "  0.0552497  -1.22006548  1.34984967  2.42370385 -0.16627429  0.23612288\n",
      " -0.56842932  0.7014561   1.04341521 -0.01258758  0.55092436  1.12371734\n",
      " -0.26901078  0.30008875  0.72851472  1.40164253 -0.95323645 -0.9983492\n",
      " -1.03510006 -0.72401867 -1.03107712  1.28135323  0.30984946  0.4723645\n",
      " -0.27015876  0.47557355 -0.61040508 -0.10571472  0.98750458  0.1839331\n",
      "  0.49529766 -0.73473802  0.12098766  0.85520008  0.12564463  1.42820456\n",
      " -1.17410353 -0.17022012 -0.77587061 -0.24377065 -0.69614003 -1.10812013\n",
      "  0.76675342 -1.69326941  1.6660313   1.63791648  0.43002967  0.5119715\n",
      " -1.4832151   0.40837898 -0.6803591  -0.07405203 -1.17669176 -0.77084416\n",
      " -1.04823619  1.30671424 -1.3160151   0.49384602 -0.34463104  1.47582462\n",
      "  0.591013   -2.66331426 -1.05035748  1.44063797  1.24429014  0.40348743\n",
      "  0.2127699   0.3435254  -2.11020528 -1.88726962  0.20334397  1.07585178\n",
      "  0.87453089 -0.24667412  0.1530745   0.5021117   2.05250644 -0.04607326\n",
      "  1.3324544  -0.02162608 -0.81043386  0.2473636   1.50298085 -0.77211591\n",
      " -0.51028922  0.83601625  1.30327372 -0.07272991  0.496317   -0.58369194\n",
      " -0.07543598  0.94519654  1.23341254  0.37360364  0.68618707  2.6004602\n",
      "  0.35093635 -0.37594329 -0.19823124 -1.74770782 -0.72954026  0.5062963\n",
      " -0.73551953  0.70740169 -0.89629698 -0.84780409  0.32396942  0.37321861\n",
      "  1.00500511  0.6593019   0.51981213  2.3671652   1.42158497  0.46023886\n",
      "  0.63427111 -0.4465018   1.16390758 -0.19769706  2.45998292  0.81154005\n",
      "  0.72606478  0.30727621  1.44954681 -1.46393231 -0.29181864 -1.11966214\n",
      "  0.60086949 -0.21077597  1.14458882 -1.67111399 -0.25072087 -0.75688649\n",
      "  1.03384177  1.45972163 -0.20332814  0.37695537  2.08459304  1.83777456\n",
      " -0.19201895 -0.46617395 -0.20059294  0.89357535  0.35608545  1.1717384\n",
      "  1.18154706  1.42476956 -0.88103443 -0.44931194  0.71651753 -1.55304299\n",
      "  0.91984727  2.13180205  0.08093622  0.48067899  0.41867441  0.84702784\n",
      " -0.35089161 -1.18646733  1.17672141  0.15471162 -0.83778689  0.08524573\n",
      "  0.78415947  0.08030056 -1.02671998  0.14909019  2.36908615  0.66658725\n",
      " -0.24116521 -1.46665438 -0.32450602 -0.83589473 -0.39684197  0.18731218\n",
      "  1.42054003  0.14977122 -0.45690205  0.15304192  0.62624042 -1.07666875\n",
      " -1.06414981  0.42712525 -2.26237051  0.51511649 -0.13395582 -1.61126173\n",
      " -0.90999305  0.45407032 -0.27696462 -2.55749841 -0.01338453  0.27544711\n",
      " -0.89650822 -0.1518648  -1.88306168 -0.83912401 -0.45389518 -1.5451578\n",
      "  0.81035407 -0.34402732  0.68192995 -0.09724006 -1.77534057 -0.15750815\n",
      "  1.71741214  0.4359806  -0.40528608 -1.38396899  0.17713322 -0.82936656\n",
      " -0.69412109 -0.66015157 -0.48511305 -1.38532369 -0.64196686 -2.98142161\n",
      " -0.64823039 -0.69388128  0.21172935 -1.6750303   0.02583459  0.22892444\n",
      "  0.09627073 -1.39179773  0.26695144  1.70267694  0.39046848 -2.42663333\n",
      " -1.05239987 -0.76992853  0.20645984  0.62617561  0.00582606  1.64645304\n",
      "  0.6129956  -0.19455517 -1.50768784  0.96612341  0.47138374  0.18344926\n",
      " -1.15568495  1.06022588  0.38087899 -0.47611075  0.24874272 -0.00345517\n",
      "  0.76988004 -0.73809695 -0.32760756 -0.29601558  0.69929966 -0.07656954\n",
      "  0.3964609   0.17209026  0.42334489  1.34998832 -0.13722495  0.58565692\n",
      "  0.54211666 -0.04448353  1.20041075  0.93910797 -0.49287096  0.6098136\n",
      " -0.20584394 -1.44604467  0.5201415   0.36695609 -0.15577741 -1.2744062\n",
      " -0.37874548  0.54725404 -0.95086346 -0.20048302 -1.62580226  0.63396924\n",
      "  1.51065581  0.21342323  0.99333921 -0.05239554  1.06268436 -0.17366115\n",
      " -1.42218034 -1.07653931 -1.27116295  1.08026164 -0.658197   -0.33168899\n",
      "  0.03974581 -0.23452118  0.69823883  0.89308014 -0.18883749 -0.2432016\n",
      "  1.10392905  1.69080927  0.12336856  1.56147969 -0.9446961   0.2300211\n",
      "  0.46347296  0.57401653 -1.98015828 -1.56050038  0.28260035 -0.6548565\n",
      " -0.47303077 -0.42357567 -1.23622579 -0.68336801  0.28616051  1.34782749\n",
      "  0.1179982  -2.4451343   0.5969322   1.33373975  0.39036657  0.84250405\n",
      "  0.21405707 -0.13940509 -0.5067818  -0.55752995 -2.59348698  0.36234091\n",
      "  0.08990484 -0.00887585 -0.33442555  0.48348546 -0.01771076 -1.36986388\n",
      " -0.23824004 -1.82312098 -0.45454178 -0.17420819  1.16196737  0.88273751\n",
      " -0.78388743  0.66215826  0.47178382 -0.77824845 -1.04121355  0.6647585\n",
      "  0.41876184 -2.68673463 -0.34785542  1.60753238  0.28128049  0.44803313\n",
      "  0.25679361 -1.32171183]\n"
     ]
    },
    {
     "data": {
      "text/html": [
       "\n",
       "  <div id=\"b98a4ecb-c846-43ff-875e-9bcbd3be6f5e\" data-root-id=\"p1754\" style=\"display: contents;\"></div>\n"
      ]
     },
     "metadata": {},
     "output_type": "display_data"
    },
    {
     "data": {
      "application/javascript": "(function(root) {\n  function embed_document(root) {\n  const docs_json = {\"2ee3cb80-28e1-4c66-82c7-360c2353874c\":{\"version\":\"3.2.2\",\"title\":\"Bokeh Application\",\"roots\":[{\"type\":\"object\",\"name\":\"Figure\",\"id\":\"p1754\",\"attributes\":{\"x_range\":{\"type\":\"object\",\"name\":\"DataRange1d\",\"id\":\"p1755\"},\"y_range\":{\"type\":\"object\",\"name\":\"DataRange1d\",\"id\":\"p1756\"},\"x_scale\":{\"type\":\"object\",\"name\":\"LinearScale\",\"id\":\"p1764\"},\"y_scale\":{\"type\":\"object\",\"name\":\"LinearScale\",\"id\":\"p1765\"},\"title\":{\"type\":\"object\",\"name\":\"Title\",\"id\":\"p1757\",\"attributes\":{\"text\":\"Bokeh Hexagon Bin Graph\"}},\"renderers\":[{\"type\":\"object\",\"name\":\"GlyphRenderer\",\"id\":\"p1793\",\"attributes\":{\"data_source\":{\"type\":\"object\",\"name\":\"ColumnDataSource\",\"id\":\"p1784\",\"attributes\":{\"selected\":{\"type\":\"object\",\"name\":\"Selection\",\"id\":\"p1785\",\"attributes\":{\"indices\":[],\"line_indices\":[]}},\"selection_policy\":{\"type\":\"object\",\"name\":\"UnionRenderers\",\"id\":\"p1786\"},\"data\":{\"type\":\"map\",\"entries\":[[\"q\",{\"type\":\"ndarray\",\"array\":{\"type\":\"bytes\",\"data\":\"/P////3////9/////f////3////9/////v////7////+/////v////7//////////////////////////////////////////////wAAAAAAAAAAAAAAAAAAAAAAAAAAAAAAAAEAAAABAAAAAQAAAAEAAAABAAAAAQAAAAIAAAACAAAAAgAAAAIAAAACAAAAAgAAAAMAAAADAAAAAwAAAAMAAAADAAAABAAAAA==\"},\"shape\":[43],\"dtype\":\"int32\",\"order\":\"little\"}],[\"r\",{\"type\":\"ndarray\",\"array\":{\"type\":\"bytes\",\"data\":\"AwAAAP////8AAAAAAQAAAAIAAAADAAAA/////wAAAAABAAAAAgAAAAMAAAD9/////v////////8AAAAAAQAAAAIAAAADAAAABAAAAP7/////////AAAAAAEAAAACAAAAAwAAAP3////+/////////wAAAAABAAAAAgAAAP3////+/////////wAAAAABAAAAAgAAAP3////+/////////wAAAAABAAAA/v///w==\"},\"shape\":[43],\"dtype\":\"int32\",\"order\":\"little\"}],[\"c\",{\"type\":\"ndarray\",\"array\":{\"type\":\"bytes\",\"data\":\"AgAAAAEAAAAHAAAAAgAAAAQAAAAFAAAABQAAAA0AAAAOAAAACAAAAAkAAAABAAAABAAAAA4AAAAeAAAAGgAAABoAAAAEAAAAAwAAAAoAAAAkAAAAOQAAACMAAAANAAAABgAAAAUAAAARAAAAIQAAAB0AAAAPAAAAAwAAAAUAAAAKAAAAFAAAAAYAAAABAAAAAgAAAAIAAAAGAAAABgAAAAMAAAABAAAAAQAAAA==\"},\"shape\":[43],\"dtype\":\"int32\",\"order\":\"little\"}]]}}},\"view\":{\"type\":\"object\",\"name\":\"CDSView\",\"id\":\"p1794\",\"attributes\":{\"filter\":{\"type\":\"object\",\"name\":\"AllIndices\",\"id\":\"p1795\"}}},\"glyph\":{\"type\":\"object\",\"name\":\"HexTile\",\"id\":\"p1790\",\"attributes\":{\"size\":0.5,\"r\":{\"type\":\"field\",\"field\":\"r\"},\"q\":{\"type\":\"field\",\"field\":\"q\"},\"fill_color\":{\"type\":\"field\",\"field\":\"c\",\"transform\":{\"type\":\"object\",\"name\":\"LinearColorMapper\",\"id\":\"p1783\",\"attributes\":{\"palette\":[\"#0C0786\",\"#100787\",\"#130689\",\"#15068A\",\"#18068B\",\"#1B068C\",\"#1D068D\",\"#1F058E\",\"#21058F\",\"#230590\",\"#250591\",\"#270592\",\"#290593\",\"#2B0594\",\"#2D0494\",\"#2F0495\",\"#310496\",\"#330497\",\"#340498\",\"#360498\",\"#380499\",\"#3A049A\",\"#3B039A\",\"#3D039B\",\"#3F039C\",\"#40039C\",\"#42039D\",\"#44039E\",\"#45039E\",\"#47029F\",\"#49029F\",\"#4A02A0\",\"#4C02A1\",\"#4E02A1\",\"#4F02A2\",\"#5101A2\",\"#5201A3\",\"#5401A3\",\"#5601A3\",\"#5701A4\",\"#5901A4\",\"#5A00A5\",\"#5C00A5\",\"#5E00A5\",\"#5F00A6\",\"#6100A6\",\"#6200A6\",\"#6400A7\",\"#6500A7\",\"#6700A7\",\"#6800A7\",\"#6A00A7\",\"#6C00A8\",\"#6D00A8\",\"#6F00A8\",\"#7000A8\",\"#7200A8\",\"#7300A8\",\"#7500A8\",\"#7601A8\",\"#7801A8\",\"#7901A8\",\"#7B02A8\",\"#7C02A7\",\"#7E03A7\",\"#7F03A7\",\"#8104A7\",\"#8204A7\",\"#8405A6\",\"#8506A6\",\"#8607A6\",\"#8807A5\",\"#8908A5\",\"#8B09A4\",\"#8C0AA4\",\"#8E0CA4\",\"#8F0DA3\",\"#900EA3\",\"#920FA2\",\"#9310A1\",\"#9511A1\",\"#9612A0\",\"#9713A0\",\"#99149F\",\"#9A159E\",\"#9B179E\",\"#9D189D\",\"#9E199C\",\"#9F1A9B\",\"#A01B9B\",\"#A21C9A\",\"#A31D99\",\"#A41E98\",\"#A51F97\",\"#A72197\",\"#A82296\",\"#A92395\",\"#AA2494\",\"#AC2593\",\"#AD2692\",\"#AE2791\",\"#AF2890\",\"#B02A8F\",\"#B12B8F\",\"#B22C8E\",\"#B42D8D\",\"#B52E8C\",\"#B62F8B\",\"#B7308A\",\"#B83289\",\"#B93388\",\"#BA3487\",\"#BB3586\",\"#BC3685\",\"#BD3784\",\"#BE3883\",\"#BF3982\",\"#C03B81\",\"#C13C80\",\"#C23D80\",\"#C33E7F\",\"#C43F7E\",\"#C5407D\",\"#C6417C\",\"#C7427B\",\"#C8447A\",\"#C94579\",\"#CA4678\",\"#CB4777\",\"#CC4876\",\"#CD4975\",\"#CE4A75\",\"#CF4B74\",\"#D04D73\",\"#D14E72\",\"#D14F71\",\"#D25070\",\"#D3516F\",\"#D4526E\",\"#D5536D\",\"#D6556D\",\"#D7566C\",\"#D7576B\",\"#D8586A\",\"#D95969\",\"#DA5A68\",\"#DB5B67\",\"#DC5D66\",\"#DC5E66\",\"#DD5F65\",\"#DE6064\",\"#DF6163\",\"#DF6262\",\"#E06461\",\"#E16560\",\"#E26660\",\"#E3675F\",\"#E3685E\",\"#E46A5D\",\"#E56B5C\",\"#E56C5B\",\"#E66D5A\",\"#E76E5A\",\"#E87059\",\"#E87158\",\"#E97257\",\"#EA7356\",\"#EA7455\",\"#EB7654\",\"#EC7754\",\"#EC7853\",\"#ED7952\",\"#ED7B51\",\"#EE7C50\",\"#EF7D4F\",\"#EF7E4E\",\"#F0804D\",\"#F0814D\",\"#F1824C\",\"#F2844B\",\"#F2854A\",\"#F38649\",\"#F38748\",\"#F48947\",\"#F48A47\",\"#F58B46\",\"#F58D45\",\"#F68E44\",\"#F68F43\",\"#F69142\",\"#F79241\",\"#F79341\",\"#F89540\",\"#F8963F\",\"#F8983E\",\"#F9993D\",\"#F99A3C\",\"#FA9C3B\",\"#FA9D3A\",\"#FA9F3A\",\"#FAA039\",\"#FBA238\",\"#FBA337\",\"#FBA436\",\"#FCA635\",\"#FCA735\",\"#FCA934\",\"#FCAA33\",\"#FCAC32\",\"#FCAD31\",\"#FDAF31\",\"#FDB030\",\"#FDB22F\",\"#FDB32E\",\"#FDB52D\",\"#FDB62D\",\"#FDB82C\",\"#FDB92B\",\"#FDBB2B\",\"#FDBC2A\",\"#FDBE29\",\"#FDC029\",\"#FDC128\",\"#FDC328\",\"#FDC427\",\"#FDC626\",\"#FCC726\",\"#FCC926\",\"#FCCB25\",\"#FCCC25\",\"#FCCE25\",\"#FBD024\",\"#FBD124\",\"#FBD324\",\"#FAD524\",\"#FAD624\",\"#FAD824\",\"#F9D924\",\"#F9DB24\",\"#F8DD24\",\"#F8DF24\",\"#F7E024\",\"#F7E225\",\"#F6E425\",\"#F6E525\",\"#F5E726\",\"#F5E926\",\"#F4EA26\",\"#F3EC26\",\"#F3EE26\",\"#F2F026\",\"#F2F126\",\"#F1F326\",\"#F0F525\",\"#F0F623\",\"#EFF821\"],\"low\":0,\"high\":57}}}}},\"nonselection_glyph\":{\"type\":\"object\",\"name\":\"HexTile\",\"id\":\"p1791\",\"attributes\":{\"size\":0.5,\"r\":{\"type\":\"field\",\"field\":\"r\"},\"q\":{\"type\":\"field\",\"field\":\"q\"},\"line_alpha\":{\"type\":\"value\",\"value\":0.1},\"fill_color\":{\"type\":\"field\",\"field\":\"c\",\"transform\":{\"id\":\"p1783\"}},\"fill_alpha\":{\"type\":\"value\",\"value\":0.1},\"hatch_alpha\":{\"type\":\"value\",\"value\":0.1}}},\"muted_glyph\":{\"type\":\"object\",\"name\":\"HexTile\",\"id\":\"p1792\",\"attributes\":{\"size\":0.5,\"r\":{\"type\":\"field\",\"field\":\"r\"},\"q\":{\"type\":\"field\",\"field\":\"q\"},\"line_alpha\":{\"type\":\"value\",\"value\":0.2},\"fill_color\":{\"type\":\"field\",\"field\":\"c\",\"transform\":{\"id\":\"p1783\"}},\"fill_alpha\":{\"type\":\"value\",\"value\":0.2},\"hatch_alpha\":{\"type\":\"value\",\"value\":0.2}}}}}],\"toolbar\":{\"type\":\"object\",\"name\":\"Toolbar\",\"id\":\"p1763\",\"attributes\":{\"tools\":[{\"type\":\"object\",\"name\":\"PanTool\",\"id\":\"p1776\"},{\"type\":\"object\",\"name\":\"WheelZoomTool\",\"id\":\"p1777\"},{\"type\":\"object\",\"name\":\"BoxZoomTool\",\"id\":\"p1778\",\"attributes\":{\"overlay\":{\"type\":\"object\",\"name\":\"BoxAnnotation\",\"id\":\"p1779\",\"attributes\":{\"syncable\":false,\"level\":\"overlay\",\"visible\":false,\"left_units\":\"canvas\",\"right_units\":\"canvas\",\"bottom_units\":\"canvas\",\"top_units\":\"canvas\",\"line_color\":\"black\",\"line_alpha\":1.0,\"line_width\":2,\"line_dash\":[4,4],\"fill_color\":\"lightgrey\",\"fill_alpha\":0.5}}}},{\"type\":\"object\",\"name\":\"SaveTool\",\"id\":\"p1780\"},{\"type\":\"object\",\"name\":\"ResetTool\",\"id\":\"p1781\"},{\"type\":\"object\",\"name\":\"HelpTool\",\"id\":\"p1782\"}]}},\"left\":[{\"type\":\"object\",\"name\":\"LinearAxis\",\"id\":\"p1771\",\"attributes\":{\"ticker\":{\"type\":\"object\",\"name\":\"BasicTicker\",\"id\":\"p1772\",\"attributes\":{\"mantissas\":[1,2,5]}},\"formatter\":{\"type\":\"object\",\"name\":\"BasicTickFormatter\",\"id\":\"p1773\"},\"axis_label\":\"y-axis\",\"major_label_policy\":{\"type\":\"object\",\"name\":\"AllLabels\",\"id\":\"p1774\"}}}],\"below\":[{\"type\":\"object\",\"name\":\"LinearAxis\",\"id\":\"p1766\",\"attributes\":{\"ticker\":{\"type\":\"object\",\"name\":\"BasicTicker\",\"id\":\"p1767\",\"attributes\":{\"mantissas\":[1,2,5]}},\"formatter\":{\"type\":\"object\",\"name\":\"BasicTickFormatter\",\"id\":\"p1768\"},\"axis_label\":\"x-axis\",\"major_label_policy\":{\"type\":\"object\",\"name\":\"AllLabels\",\"id\":\"p1769\"}}}],\"center\":[{\"type\":\"object\",\"name\":\"Grid\",\"id\":\"p1770\",\"attributes\":{\"axis\":{\"id\":\"p1766\"}}},{\"type\":\"object\",\"name\":\"Grid\",\"id\":\"p1775\",\"attributes\":{\"dimension\":1,\"axis\":{\"id\":\"p1771\"}}}]}}],\"defs\":[{\"type\":\"model\",\"name\":\"ReactiveHTML1\"},{\"type\":\"model\",\"name\":\"FlexBox1\",\"properties\":[{\"name\":\"align_content\",\"kind\":\"Any\",\"default\":\"flex-start\"},{\"name\":\"align_items\",\"kind\":\"Any\",\"default\":\"flex-start\"},{\"name\":\"flex_direction\",\"kind\":\"Any\",\"default\":\"row\"},{\"name\":\"flex_wrap\",\"kind\":\"Any\",\"default\":\"wrap\"},{\"name\":\"justify_content\",\"kind\":\"Any\",\"default\":\"flex-start\"}]},{\"type\":\"model\",\"name\":\"FloatPanel1\",\"properties\":[{\"name\":\"config\",\"kind\":\"Any\",\"default\":{\"type\":\"map\"}},{\"name\":\"contained\",\"kind\":\"Any\",\"default\":true},{\"name\":\"position\",\"kind\":\"Any\",\"default\":\"right-top\"},{\"name\":\"offsetx\",\"kind\":\"Any\",\"default\":null},{\"name\":\"offsety\",\"kind\":\"Any\",\"default\":null},{\"name\":\"theme\",\"kind\":\"Any\",\"default\":\"primary\"},{\"name\":\"status\",\"kind\":\"Any\",\"default\":\"normalized\"}]},{\"type\":\"model\",\"name\":\"GridStack1\",\"properties\":[{\"name\":\"mode\",\"kind\":\"Any\",\"default\":\"warn\"},{\"name\":\"ncols\",\"kind\":\"Any\",\"default\":null},{\"name\":\"nrows\",\"kind\":\"Any\",\"default\":null},{\"name\":\"allow_resize\",\"kind\":\"Any\",\"default\":true},{\"name\":\"allow_drag\",\"kind\":\"Any\",\"default\":true},{\"name\":\"state\",\"kind\":\"Any\",\"default\":[]}]},{\"type\":\"model\",\"name\":\"drag1\",\"properties\":[{\"name\":\"slider_width\",\"kind\":\"Any\",\"default\":5},{\"name\":\"slider_color\",\"kind\":\"Any\",\"default\":\"black\"},{\"name\":\"value\",\"kind\":\"Any\",\"default\":50}]},{\"type\":\"model\",\"name\":\"click1\",\"properties\":[{\"name\":\"terminal_output\",\"kind\":\"Any\",\"default\":\"\"},{\"name\":\"debug_name\",\"kind\":\"Any\",\"default\":\"\"},{\"name\":\"clears\",\"kind\":\"Any\",\"default\":0}]},{\"type\":\"model\",\"name\":\"FastWrapper1\",\"properties\":[{\"name\":\"object\",\"kind\":\"Any\",\"default\":null},{\"name\":\"style\",\"kind\":\"Any\",\"default\":null}]},{\"type\":\"model\",\"name\":\"NotificationAreaBase1\",\"properties\":[{\"name\":\"js_events\",\"kind\":\"Any\",\"default\":{\"type\":\"map\"}},{\"name\":\"position\",\"kind\":\"Any\",\"default\":\"bottom-right\"},{\"name\":\"_clear\",\"kind\":\"Any\",\"default\":0}]},{\"type\":\"model\",\"name\":\"NotificationArea1\",\"properties\":[{\"name\":\"js_events\",\"kind\":\"Any\",\"default\":{\"type\":\"map\"}},{\"name\":\"notifications\",\"kind\":\"Any\",\"default\":[]},{\"name\":\"position\",\"kind\":\"Any\",\"default\":\"bottom-right\"},{\"name\":\"_clear\",\"kind\":\"Any\",\"default\":0},{\"name\":\"types\",\"kind\":\"Any\",\"default\":[{\"type\":\"map\",\"entries\":[[\"type\",\"warning\"],[\"background\",\"#ffc107\"],[\"icon\",{\"type\":\"map\",\"entries\":[[\"className\",\"fas fa-exclamation-triangle\"],[\"tagName\",\"i\"],[\"color\",\"white\"]]}]]},{\"type\":\"map\",\"entries\":[[\"type\",\"info\"],[\"background\",\"#007bff\"],[\"icon\",{\"type\":\"map\",\"entries\":[[\"className\",\"fas fa-info-circle\"],[\"tagName\",\"i\"],[\"color\",\"white\"]]}]]}]}]},{\"type\":\"model\",\"name\":\"Notification\",\"properties\":[{\"name\":\"background\",\"kind\":\"Any\",\"default\":null},{\"name\":\"duration\",\"kind\":\"Any\",\"default\":3000},{\"name\":\"icon\",\"kind\":\"Any\",\"default\":null},{\"name\":\"message\",\"kind\":\"Any\",\"default\":\"\"},{\"name\":\"notification_type\",\"kind\":\"Any\",\"default\":null},{\"name\":\"_destroyed\",\"kind\":\"Any\",\"default\":false}]},{\"type\":\"model\",\"name\":\"TemplateActions1\",\"properties\":[{\"name\":\"open_modal\",\"kind\":\"Any\",\"default\":0},{\"name\":\"close_modal\",\"kind\":\"Any\",\"default\":0}]},{\"type\":\"model\",\"name\":\"BootstrapTemplateActions1\",\"properties\":[{\"name\":\"open_modal\",\"kind\":\"Any\",\"default\":0},{\"name\":\"close_modal\",\"kind\":\"Any\",\"default\":0}]},{\"type\":\"model\",\"name\":\"MaterialTemplateActions1\",\"properties\":[{\"name\":\"open_modal\",\"kind\":\"Any\",\"default\":0},{\"name\":\"close_modal\",\"kind\":\"Any\",\"default\":0}]}]}};\n  const render_items = [{\"docid\":\"2ee3cb80-28e1-4c66-82c7-360c2353874c\",\"roots\":{\"p1754\":\"b98a4ecb-c846-43ff-875e-9bcbd3be6f5e\"},\"root_ids\":[\"p1754\"]}];\n  root.Bokeh.embed.embed_items_notebook(docs_json, render_items);\n  }\n  if (root.Bokeh !== undefined) {\n    embed_document(root);\n  } else {\n    let attempts = 0;\n    const timer = setInterval(function(root) {\n      if (root.Bokeh !== undefined) {\n        clearInterval(timer);\n        embed_document(root);\n      } else {\n        attempts++;\n        if (attempts > 100) {\n          clearInterval(timer);\n          console.log(\"Bokeh: ERROR: Unable to run BokehJS code because BokehJS library is missing\");\n        }\n      }\n    }, 10, root)\n  }\n})(window);",
      "application/vnd.bokehjs_exec.v0+json": ""
     },
     "metadata": {
      "application/vnd.bokehjs_exec.v0+json": {
       "id": "p1754"
      }
     },
     "output_type": "display_data"
    }
   ],
   "source": [
    "graph = figure(title = \"Bokeh Hexagon Bin Graph\") \n",
    "graph.xaxis.axis_label = \"x-axis\"\n",
    "graph.yaxis.axis_label = \"y-axis\"\n",
    "    \n",
    "# the points to be plotted \n",
    "x = np.random.standard_normal(500)\n",
    "y = np.random.standard_normal(500)\n",
    "\n",
    "print(x)\n",
    "\n",
    "size = 0.5\n",
    "palette = \"Plasma256\"\n",
    "graph.hexbin(x, y,\n",
    "             size = 0.5,\n",
    "             palette = palette) \n",
    "     \n",
    "show(graph)"
   ]
  }
 ],
 "metadata": {
  "kernelspec": {
   "display_name": "Python 3",
   "language": "python",
   "name": "python3"
  },
  "language_info": {
   "codemirror_mode": {
    "name": "ipython",
    "version": 3
   },
   "file_extension": ".py",
   "mimetype": "text/x-python",
   "name": "python",
   "nbconvert_exporter": "python",
   "pygments_lexer": "ipython3",
   "version": "3.11.4"
  },
  "orig_nbformat": 4
 },
 "nbformat": 4,
 "nbformat_minor": 2
}
